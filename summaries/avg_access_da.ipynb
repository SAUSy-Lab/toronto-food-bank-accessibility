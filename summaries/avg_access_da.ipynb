{
 "cells": [
  {
   "cell_type": "code",
   "execution_count": 1,
   "id": "endangered-calendar",
   "metadata": {},
   "outputs": [],
   "source": [
    "import pandas as pd\n",
    "import geopandas as gpd\n",
    "import numpy as np\n",
    "import matplotlib.pyplot as plt\n",
    "import seaborn as sns"
   ]
  },
  {
   "cell_type": "code",
   "execution_count": 2,
   "id": "revolutionary-tribune",
   "metadata": {},
   "outputs": [],
   "source": [
    "hexg = gpd.read_file(\"../hex/hex_200_wdata.shp\")\n",
    "hexg = hexg.to_crs(epsg=32617).reset_index(drop=True) \n",
    "blcks = gpd.read_file(\"../blocks/blocks_pop_fixedgeom.geojson\")\n",
    "blcks = blcks.to_crs(epsg=32617).reset_index(drop=True) "
   ]
  },
  {
   "cell_type": "code",
   "execution_count": 3,
   "id": "renewable-circus",
   "metadata": {},
   "outputs": [
    {
     "name": "stderr",
     "output_type": "stream",
     "text": [
      "<ipython-input-3-e9491fe3cbe1>:1: UserWarning: `keep_geom_type=True` in overlay resulted in 1518 dropped geometries of different geometry types than df1 has. Set `keep_geom_type=False` to retain all geometries\n",
      "  union = gpd.overlay(blcks, hexg, how='union')\n"
     ]
    }
   ],
   "source": [
    "union = gpd.overlay(blcks, hexg, how='union')"
   ]
  },
  {
   "cell_type": "code",
   "execution_count": 4,
   "id": "exempt-impression",
   "metadata": {},
   "outputs": [],
   "source": [
    "union[\"area\"] = union['geometry'].area\n",
    "union[\"A_20_area\"] = union[\"area\"] * union[\"A_20_avg\"]\n",
    "union[\"A_21_area\"] = union[\"area\"] * union[\"A_21_avg\"]"
   ]
  },
  {
   "cell_type": "code",
   "execution_count": 5,
   "id": "stretch-generator",
   "metadata": {},
   "outputs": [],
   "source": [
    "# Define a lambda function to compute the weighted mean:\n",
    "\n",
    "dbs = union.groupby([\"DBUID\", \"dbpop\", \"dauid\"]).agg(A_21=(\"A_21_area\", \"sum\"), A_20=(\"A_20_area\", \"sum\"), area=(\"area\", \"sum\"))\n",
    "dbs[\"A_21\"] = dbs[\"A_21\"] / dbs[\"area\"]\n",
    "dbs[\"A_20\"] = dbs[\"A_20\"] / dbs[\"area\"]\n",
    "dbs[\"A_21\"] = dbs[\"A_21\"] - 1 \n",
    "dbs[\"A_20\"] = dbs[\"A_20\"] - 1 \n",
    "dbs.reset_index(inplace=True)\n",
    "dbs[\"A_20_pop\"] = dbs[\"dbpop\"] * dbs[\"A_20\"]\n",
    "dbs[\"A_21_pop\"] = dbs[\"dbpop\"] * dbs[\"A_21\"]\n",
    "dbs[\"dauid\"] = dbs[\"dauid\"].astype(int)"
   ]
  },
  {
   "cell_type": "code",
   "execution_count": 6,
   "id": "breeding-location",
   "metadata": {},
   "outputs": [],
   "source": [
    "da = dbs.groupby([\"dauid\"]).agg(A_21=(\"A_21_pop\", \"sum\"), A_20=(\"A_20_pop\", \"sum\"), pop=(\"dbpop\", \"sum\"))\n",
    "da[\"A_21\"] = da[\"A_21\"] / da[\"pop\"]\n",
    "da[\"A_20\"] = da[\"A_20\"] / da[\"pop\"]\n",
    "da.reset_index(inplace=True)\n",
    "da[\"dauid\"] = da[\"dauid\"].astype(int)"
   ]
  },
  {
   "cell_type": "markdown",
   "id": "constitutional-accused",
   "metadata": {},
   "source": [
    "Load census data"
   ]
  },
  {
   "cell_type": "code",
   "execution_count": 14,
   "id": "crazy-deficit",
   "metadata": {},
   "outputs": [],
   "source": [
    "dfc = pd.read_csv(\"../blocks/da_census.csv\")\n",
    "dfc = dfc.fillna(0)\n"
   ]
  },
  {
   "cell_type": "code",
   "execution_count": 43,
   "id": "piano-liability",
   "metadata": {},
   "outputs": [],
   "source": [
    "df = dbs.merge(dfc, how=\"inner\", left_on=\"dauid\", right_on=\"dauid\")"
   ]
  },
  {
   "cell_type": "code",
   "execution_count": 44,
   "id": "extraordinary-cornell",
   "metadata": {},
   "outputs": [],
   "source": [
    "df = df.fillna(0)\n",
    "df[\"lico\"] = df[\"lico\"] * df[\"dbpop\"] / df[\"pop\"]\n",
    "df[\"lim\"] = df[\"lim\"] * df[\"dbpop\"] / df[\"pop\"]\n",
    "df[\"immig\"] = (df[\"immig_1\"] + df[\"immig_2\"]) * df[\"dbpop\"] / df[\"pop\"] # recent immig + non PR\n",
    "df[\"vismin\"] = df[\"vismin\"] * df[\"dbpop\"] / df[\"pop\"]\n",
    "df = df.fillna(0)"
   ]
  },
  {
   "cell_type": "code",
   "execution_count": 45,
   "id": "spanish-routine",
   "metadata": {},
   "outputs": [],
   "source": [
    "dftc = pd.read_csv(\"../blocks/ct_tts_nocar.csv\")\n",
    "dfctdalink = pd.read_csv(\"../blocks/da_ct_2016_link.csv\")\n",
    "dftc = dftc.merge(dfctdalink, how=\"left\", left_on=\"ctuid\", right_on=\"ctuid\")\n",
    "dftc = dftc[[\"dauid\",\"no_car_rate\"]]\n",
    "df = df.merge(dftc, how=\"inner\", left_on=\"dauid\", right_on=\"dauid\")\n",
    "df[\"no_car_rate\"] = df[\"no_car_rate\"].astype(float)\n",
    "df[\"no_car_rate\"] = df[\"no_car_rate\"] * df[\"dbpop\"]"
   ]
  },
  {
   "cell_type": "code",
   "execution_count": 46,
   "id": "abstract-casino",
   "metadata": {},
   "outputs": [
    {
     "data": {
      "text/plain": [
       "<seaborn.axisgrid.JointGrid at 0x7f78a9f99b80>"
      ]
     },
     "execution_count": 46,
     "metadata": {},
     "output_type": "execute_result"
    },
    {
     "data": {
      "image/png": "[encoded data removed]",
      "text/plain": [
       "<Figure size 432x432 with 3 Axes>"
      ]
     },
     "metadata": {
      "needs_background": "light"
     },
     "output_type": "display_data"
    }
   ],
   "source": [
    "sns.jointplot(x=\"A_20\", y=\"A_21\", data=df, kind=\"hist\")"
   ]
  },
  {
   "cell_type": "code",
   "execution_count": 47,
   "id": "damaged-crown",
   "metadata": {},
   "outputs": [],
   "source": [
    "out = []\n",
    "\n",
    "j = 0\n",
    "while j <= 65:\n",
    "    pop_2020 = 0\n",
    "    pop_2021 = 0\n",
    "    lim_2020 = 0\n",
    "    lim_2021 = 0\n",
    "    lico_2020 = 0\n",
    "    lico_2021 = 0\n",
    "    vismin_2020 = 0\n",
    "    vismin_2021 = 0\n",
    "    immig_2020 = 0\n",
    "    immig_2021 = 0\n",
    "    nocar_2020 = 0\n",
    "    nocar_2021 = 0\n",
    "    for i, row in df.iterrows():\n",
    "        if row[\"A_20\"] <= j:\n",
    "            pop_2020 = pop_2020 + row[\"dbpop\"]\n",
    "            lim_2020 = lim_2020 + row[\"lim\"]\n",
    "            lico_2020 = lico_2020 + row[\"lico\"]\n",
    "            immig_2020 = immig_2020 + row[\"immig\"]\n",
    "            vismin_2020 = vismin_2020 + row[\"vismin\"]\n",
    "            nocar_2020 = nocar_2020 + row[\"no_car_rate\"]\n",
    "        if row[\"A_21\"] <= j:\n",
    "            pop_2021 = pop_2021 + row[\"dbpop\"]\n",
    "            lim_2021 = lim_2021 + row[\"lim\"]\n",
    "            lico_2021 = lico_2021 + row[\"lico\"]\n",
    "            immig_2021 = immig_2021 + row[\"immig\"]\n",
    "            vismin_2021 = vismin_2021 + row[\"vismin\"]\n",
    "            nocar_2021 = nocar_2021 + row[\"no_car_rate\"]\n",
    "    out.append([j,pop_2020,pop_2021,lim_2020,lim_2021,lico_2020,lico_2021,vismin_2020,vismin_2021,immig_2020,immig_2021,nocar_2020,nocar_2021])\n",
    "    j += 1\n",
    "\n",
    "out = pd.DataFrame(out, columns = [\"j\",\"pop_2020\",\"pop_2021\",\"lim_2020\",\"lim_2021\",\"lico_2020\",\"lico_2021\",\n",
    "                                  \"vismin_2020\",\"vismin_2021\",\"immig_2020\",\"immig_2021\",\"nocar_2020\",\"nocar_2021\"])"
   ]
  },
  {
   "cell_type": "code",
   "execution_count": 49,
   "id": "dated-excuse",
   "metadata": {},
   "outputs": [],
   "source": [
    "out[\"pop_2020_p\"] = out[\"pop_2020\"] / sum(df.dbpop)\n",
    "out[\"pop_2021_p\"] = out[\"pop_2021\"] / sum(df.dbpop)\n",
    "out[\"lim_2020_p\"] = out[\"lim_2020\"] / sum(df.lim)\n",
    "out[\"lim_2021_p\"] = out[\"lim_2021\"] / sum(df.lim)\n",
    "out[\"lico_2020_p\"] = out[\"lico_2020\"] / sum(df.lico)\n",
    "out[\"lico_2021_p\"] = out[\"lico_2021\"] / sum(df.lico)\n",
    "out[\"immig_2020_p\"] = out[\"immig_2020\"] / sum(df.immig)\n",
    "out[\"immig_2021_p\"] = out[\"immig_2021\"] / sum(df.immig)\n",
    "out[\"vismin_2020_p\"] = out[\"vismin_2020\"] / sum(df.vismin)\n",
    "out[\"vismin_2021_p\"] = out[\"vismin_2021\"] / sum(df.vismin)\n",
    "out[\"nocar_2020_p\"] = out[\"nocar_2020\"] / sum(df.no_car_rate)\n",
    "out[\"nocar_2021_p\"] = out[\"nocar_2021\"] / sum(df.no_car_rate)"
   ]
  },
  {
   "cell_type": "code",
   "execution_count": 51,
   "id": "accepting-noise",
   "metadata": {},
   "outputs": [
    {
     "data": {
      "image/png": "[encoded data removed]",
      "text/plain": [
       "<Figure size 432x288 with 1 Axes>"
      ]
     },
     "metadata": {
      "needs_background": "light"
     },
     "output_type": "display_data"
    }
   ],
   "source": [
    "outp = pd.melt(out, id_vars=['j'], value_vars=['nocar_2020_p','nocar_2021_p'])\n",
    "g = sns.lineplot(x=\"j\", y=\"value\", hue = \"variable\", data=outp)\n",
    "plt.grid()  #just add this\n",
    "plt.show()"
   ]
  },
  {
   "cell_type": "code",
   "execution_count": 52,
   "id": "domestic-carbon",
   "metadata": {},
   "outputs": [],
   "source": [
    "out.to_csv(\"out_cdf.csv\")"
   ]
  },
  {
   "cell_type": "code",
   "execution_count": 54,
   "id": "usual-scroll",
   "metadata": {},
   "outputs": [],
   "source": [
    "df[[\"DBUID\",\"dbpop\",\"A_21\",\"A_20\",\"area\",\"lim\",\"lico\",\"vismin\",\"pop\",\"immig\",\"no_car_rate\"]].to_csv(\"out_db.csv\")"
   ]
  }
 ],
 "metadata": {
  "kernelspec": {
   "display_name": "Python 3",
   "language": "python",
   "name": "python3"
  },
  "language_info": {
   "codemirror_mode": {
    "name": "ipython",
    "version": 3
   },
   "file_extension": ".py",
   "mimetype": "text/x-python",
   "name": "python",
   "nbconvert_exporter": "python",
   "pygments_lexer": "ipython3",
   "version": "3.8.8"
  }
 },
 "nbformat": 4,
 "nbformat_minor": 5
}
